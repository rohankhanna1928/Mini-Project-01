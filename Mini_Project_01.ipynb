{
  "nbformat": 4,
  "nbformat_minor": 0,
  "metadata": {
    "colab": {
      "provenance": [],
      "include_colab_link": true
    },
    "kernelspec": {
      "name": "python3",
      "display_name": "Python 3"
    },
    "language_info": {
      "name": "python"
    }
  },
  "cells": [
    {
      "cell_type": "markdown",
      "metadata": {
        "id": "view-in-github",
        "colab_type": "text"
      },
      "source": [
        "<a href=\"https://colab.research.google.com/github/rohankhanna1928/Mini-Project-01/blob/main/Mini_Project_01.ipynb\" target=\"_parent\"><img src=\"https://colab.research.google.com/assets/colab-badge.svg\" alt=\"Open In Colab\"/></a>"
      ]
    },
    {
      "cell_type": "markdown",
      "source": [
        "# **Q1. L is a list defined as L= [11, 12, 13, 14].**"
      ],
      "metadata": {
        "id": "r9bySCc5k3PH"
      }
    },
    {
      "cell_type": "markdown",
      "source": [
        "(i) WAP to add 50 and 60 to L."
      ],
      "metadata": {
        "id": "VUxxbM8TlkOX"
      }
    },
    {
      "cell_type": "code",
      "source": [
        "L = [11, 12, 13, 14]\n",
        "L.extend([50, 60])\n",
        "print(\"L =\",L)"
      ],
      "metadata": {
        "colab": {
          "base_uri": "https://localhost:8080/"
        },
        "id": "ETvVA7swlvsp",
        "outputId": "17d56b48-07fd-46d3-bbff-7ee73a7cfa8b"
      },
      "execution_count": null,
      "outputs": [
        {
          "output_type": "stream",
          "name": "stdout",
          "text": [
            "L = [11, 12, 13, 14, 50, 60]\n"
          ]
        }
      ]
    },
    {
      "cell_type": "markdown",
      "source": [
        "(ii) WAP to remove 11 and 13from L."
      ],
      "metadata": {
        "id": "zCnbSAnWnCgX"
      }
    },
    {
      "cell_type": "code",
      "source": [
        "L = [11, 12, 13, 14]\n",
        "L.remove(11)\n",
        "L.remove(13)\n",
        "print(\"L =\",L)"
      ],
      "metadata": {
        "colab": {
          "base_uri": "https://localhost:8080/"
        },
        "id": "h3o3xuhjnFsA",
        "outputId": "fcd797bf-bf2b-4a25-b753-6bf6a0e3b13d"
      },
      "execution_count": null,
      "outputs": [
        {
          "output_type": "stream",
          "name": "stdout",
          "text": [
            "L = [12, 14]\n"
          ]
        }
      ]
    },
    {
      "cell_type": "markdown",
      "source": [
        "(iii) WAP to sort L in ascending order."
      ],
      "metadata": {
        "id": "kogYJ1lLoWbY"
      }
    },
    {
      "cell_type": "code",
      "source": [
        "L = [11, 12, 13, 14]\n",
        "L.sort()\n",
        "print(\"L =\",L)"
      ],
      "metadata": {
        "colab": {
          "base_uri": "https://localhost:8080/"
        },
        "id": "a3JZvjSHoZTD",
        "outputId": "11f0eba7-5c16-467a-a350-d8177dd1bc5c"
      },
      "execution_count": null,
      "outputs": [
        {
          "output_type": "stream",
          "name": "stdout",
          "text": [
            "L = [11, 12, 13, 14]\n"
          ]
        }
      ]
    },
    {
      "cell_type": "markdown",
      "source": [
        "(iv) WAP to sort L in descending order."
      ],
      "metadata": {
        "id": "r7tX9TWmoh_W"
      }
    },
    {
      "cell_type": "code",
      "source": [
        "L = [11, 12, 13, 14]\n",
        "L.sort(reverse=True)\n",
        "print(\"L =\",L)"
      ],
      "metadata": {
        "colab": {
          "base_uri": "https://localhost:8080/"
        },
        "id": "YpMR8_ycokkw",
        "outputId": "a5f861d9-5ed0-44c8-d820-9337c4741840"
      },
      "execution_count": null,
      "outputs": [
        {
          "output_type": "stream",
          "name": "stdout",
          "text": [
            "L = [14, 13, 12, 11]\n"
          ]
        }
      ]
    },
    {
      "cell_type": "markdown",
      "source": [
        "(v) WAP to search for 13 in L."
      ],
      "metadata": {
        "id": "Ej0ZOWTboyo2"
      }
    },
    {
      "cell_type": "code",
      "source": [
        "L = [11, 12, 13, 14]\n",
        "if 13 in L :\n",
        " print(\"13 exists in L\")\n",
        "else:\n",
        " print(\"13 doesn't exist in L\")"
      ],
      "metadata": {
        "colab": {
          "base_uri": "https://localhost:8080/"
        },
        "id": "ZLIeUAWhoz_3",
        "outputId": "1c11c273-c3c2-4d21-d9a4-f1d9d9a396e7"
      },
      "execution_count": null,
      "outputs": [
        {
          "output_type": "stream",
          "name": "stdout",
          "text": [
            "13 exists in L\n"
          ]
        }
      ]
    },
    {
      "cell_type": "markdown",
      "source": [
        "(vi) WAP to count the number of elements present in L."
      ],
      "metadata": {
        "id": "26cy9VLTqZDG"
      }
    },
    {
      "cell_type": "code",
      "source": [
        "L = [11, 12, 13, 14]\n",
        "print(\"Number of elements in L =\", len(L))"
      ],
      "metadata": {
        "colab": {
          "base_uri": "https://localhost:8080/"
        },
        "id": "XxZVlExPqbX5",
        "outputId": "091745c5-9dba-405b-dc44-15b7cc27aa40"
      },
      "execution_count": null,
      "outputs": [
        {
          "output_type": "stream",
          "name": "stdout",
          "text": [
            "Number of elements in L = 4\n"
          ]
        }
      ]
    },
    {
      "cell_type": "markdown",
      "source": [
        "(vii) WAP to sum all the elements in L."
      ],
      "metadata": {
        "id": "Bjc_KZZUqwvl"
      }
    },
    {
      "cell_type": "code",
      "source": [
        "L = [11, 12, 13, 14]\n",
        "print(\"Sum =\",sum(L))"
      ],
      "metadata": {
        "colab": {
          "base_uri": "https://localhost:8080/"
        },
        "id": "-guiSpiXq0ll",
        "outputId": "4c1ed6bc-5ade-4ab4-e706-eda59a47b1fc"
      },
      "execution_count": null,
      "outputs": [
        {
          "output_type": "stream",
          "name": "stdout",
          "text": [
            "Sum = 50\n"
          ]
        }
      ]
    },
    {
      "cell_type": "markdown",
      "source": [
        "(viii) WAP to sum all ODD numbers in L."
      ],
      "metadata": {
        "id": "9UE-e2Tarm1o"
      }
    },
    {
      "cell_type": "code",
      "source": [
        "L = [11, 12, 13, 14]\n",
        "odd = []\n",
        "even = []\n",
        "for n in L:\n",
        "  if n%2 == 0:\n",
        "    even.append(n)\n",
        "  else:\n",
        "    odd.append(n)\n",
        "print(\"Sum of odd numbers in L =\",sum(odd))"
      ],
      "metadata": {
        "colab": {
          "base_uri": "https://localhost:8080/"
        },
        "id": "eck3B7yorpr6",
        "outputId": "ee54a77a-071c-44cb-f318-9735d3c8f2f2"
      },
      "execution_count": null,
      "outputs": [
        {
          "output_type": "stream",
          "name": "stdout",
          "text": [
            "Sum of odd numbers in L = 24\n"
          ]
        }
      ]
    },
    {
      "cell_type": "markdown",
      "source": [
        "(ix) WAP to sum all EVEN numbers in L."
      ],
      "metadata": {
        "id": "hmyWbBD2x832"
      }
    },
    {
      "cell_type": "code",
      "source": [
        "L = [11, 12, 13, 14]\n",
        "odd = []\n",
        "even = []\n",
        "for n in L:\n",
        "  if n%2 == 0:\n",
        "    even.append(n)\n",
        "  else:\n",
        "    odd.append(n)\n",
        "print(\"Sum of even numbers in L =\",sum(even))"
      ],
      "metadata": {
        "id": "hT7M2qLkx9-2",
        "colab": {
          "base_uri": "https://localhost:8080/"
        },
        "outputId": "c7e60a56-b804-4eb1-c13d-c204de3b512f"
      },
      "execution_count": null,
      "outputs": [
        {
          "output_type": "stream",
          "name": "stdout",
          "text": [
            "Sum of even numbers in L = 26\n"
          ]
        }
      ]
    },
    {
      "cell_type": "markdown",
      "source": [
        "(x) WAP to sum all PRIME numbers in L."
      ],
      "metadata": {
        "id": "0f6aPCQnx-WY"
      }
    },
    {
      "cell_type": "code",
      "source": [
        "def is_prime(n):\n",
        " if n < 2:\n",
        "  return False\n",
        " for i in range(2,int(n**0.5)+1):\n",
        "  if n%i == 0:\n",
        "    return False\n",
        "  return True\n",
        "L = [11, 12, 13, 14]\n",
        "prime = []\n",
        "for p in L:\n",
        "  if is_prime(p):\n",
        "    prime.append(p)\n",
        "  else:\n",
        "    pass\n",
        "print(\"Sum of prime numbers in L =\",sum(prime))"
      ],
      "metadata": {
        "id": "ka1v7YDUyDyL",
        "colab": {
          "base_uri": "https://localhost:8080/"
        },
        "outputId": "4060416e-1333-4e35-8581-1762e62e321f"
      },
      "execution_count": null,
      "outputs": [
        {
          "output_type": "stream",
          "name": "stdout",
          "text": [
            "Sum of prime numbers in L = 24\n"
          ]
        }
      ]
    },
    {
      "cell_type": "markdown",
      "source": [
        "(xi) WAP to clear all the elements in L."
      ],
      "metadata": {
        "id": "gyl5SHY1yFoT"
      }
    },
    {
      "cell_type": "code",
      "source": [
        "L = [11, 12, 13, 14]\n",
        "L.clear()\n",
        "print(\"L =\",L)"
      ],
      "metadata": {
        "colab": {
          "base_uri": "https://localhost:8080/"
        },
        "id": "1vecQfmtyHfk",
        "outputId": "1b523eb9-ab51-458a-8f94-5a1aacd4b3f6"
      },
      "execution_count": null,
      "outputs": [
        {
          "output_type": "stream",
          "name": "stdout",
          "text": [
            "L = []\n"
          ]
        }
      ]
    },
    {
      "cell_type": "markdown",
      "source": [
        "(xii) WAP to delete L."
      ],
      "metadata": {
        "id": "KM2t4xZjyT7J"
      }
    },
    {
      "cell_type": "code",
      "source": [
        "L = [11, 12, 13, 14]\n",
        "del L\n",
        "print(\"L is deleted\")"
      ],
      "metadata": {
        "colab": {
          "base_uri": "https://localhost:8080/"
        },
        "id": "Iqi65PsuyU0A",
        "outputId": "282aff4e-9eec-4ee4-e749-dba032afb72c"
      },
      "execution_count": null,
      "outputs": [
        {
          "output_type": "stream",
          "name": "stdout",
          "text": [
            "L is deleted\n"
          ]
        }
      ]
    },
    {
      "cell_type": "markdown",
      "source": [
        "# **Q2. D is a dictionary defined as D= {1:5.6, 2:7.8, 3:6.6, 4:8.7, 5:7.7}.**"
      ],
      "metadata": {
        "id": "m0HAPAVSy9iy"
      }
    },
    {
      "cell_type": "markdown",
      "source": [
        "(i) WAP to add new entry in D; key=8 and value is 8.8"
      ],
      "metadata": {
        "id": "a96KJQjrzDo1"
      }
    },
    {
      "cell_type": "code",
      "source": [
        "D = {1:5.6, 2:7.8, 3:6.6, 4:8.7, 5:7.7}\n",
        "D.update({8:8.8})\n",
        "print(\"D =\",D)"
      ],
      "metadata": {
        "colab": {
          "base_uri": "https://localhost:8080/"
        },
        "id": "aGERzD18zHOp",
        "outputId": "6f1dc992-1596-4a93-f8f1-37b704b1d8a9"
      },
      "execution_count": null,
      "outputs": [
        {
          "output_type": "stream",
          "name": "stdout",
          "text": [
            "D = {1: 5.6, 2: 7.8, 3: 6.6, 4: 8.7, 5: 7.7, 8: 8.8}\n"
          ]
        }
      ]
    },
    {
      "cell_type": "markdown",
      "source": [
        "(ii) WAP to remove key=2."
      ],
      "metadata": {
        "id": "Fe7tQnRE00Cd"
      }
    },
    {
      "cell_type": "code",
      "source": [
        "D = {1:5.6, 2:7.8, 3:6.6, 4:8.7, 5:7.7}\n",
        "del D[2]\n",
        "print(\"D =\",D)"
      ],
      "metadata": {
        "colab": {
          "base_uri": "https://localhost:8080/"
        },
        "id": "qDscVBLd023Y",
        "outputId": "3d4efc16-431f-4cd6-ccb0-18a371d06a66"
      },
      "execution_count": null,
      "outputs": [
        {
          "output_type": "stream",
          "name": "stdout",
          "text": [
            "D = {1: 5.6, 3: 6.6, 4: 8.7, 5: 7.7}\n"
          ]
        }
      ]
    },
    {
      "cell_type": "markdown",
      "source": [
        "(iii) WAP to check weather 6 key is present in D."
      ],
      "metadata": {
        "id": "Iac3IOcS1ErY"
      }
    },
    {
      "cell_type": "code",
      "source": [
        "D = {1:5.6, 2:7.8, 3:6.6, 4:8.7, 5:7.7}\n",
        "if 6 in D:\n",
        " print(\"6 is present in D\")\n",
        "else:\n",
        " print(\"6 is not present in D\")"
      ],
      "metadata": {
        "colab": {
          "base_uri": "https://localhost:8080/"
        },
        "id": "qMcanEaM1HIB",
        "outputId": "d53f28eb-1ebe-4a93-95d8-59a0b46d4b73"
      },
      "execution_count": null,
      "outputs": [
        {
          "output_type": "stream",
          "name": "stdout",
          "text": [
            "6 is not present in D\n"
          ]
        }
      ]
    },
    {
      "cell_type": "markdown",
      "source": [
        "(iv) WAP to count the number of elements present in D."
      ],
      "metadata": {
        "id": "7tWVcSD62DRd"
      }
    },
    {
      "cell_type": "code",
      "source": [
        "D = {1:5.6, 2:7.8, 3:6.6, 4:8.7, 5:7.7}\n",
        "print (\"Number of elements in D =\", len(D))"
      ],
      "metadata": {
        "colab": {
          "base_uri": "https://localhost:8080/"
        },
        "id": "JL463LAh2FYi",
        "outputId": "d05d9147-6359-4e71-94ab-ab3b261e8911"
      },
      "execution_count": null,
      "outputs": [
        {
          "output_type": "stream",
          "name": "stdout",
          "text": [
            "Number of elements in D = 5\n"
          ]
        }
      ]
    },
    {
      "cell_type": "markdown",
      "source": [
        "(v) WAP to add all the values present D."
      ],
      "metadata": {
        "id": "0GHTHgkL2T9k"
      }
    },
    {
      "cell_type": "code",
      "source": [
        "D = {1:5.6, 2:7.8, 3:6.6, 4:8.7, 5:7.7}\n",
        "print(\"Sum of all values present in D =\",sum(D.values()))"
      ],
      "metadata": {
        "colab": {
          "base_uri": "https://localhost:8080/"
        },
        "id": "hgfTsFAr2UoV",
        "outputId": "24fe83ee-b8fa-4568-d139-77d81596c364"
      },
      "execution_count": null,
      "outputs": [
        {
          "output_type": "stream",
          "name": "stdout",
          "text": [
            "Sum of all values present in D = 36.4\n"
          ]
        }
      ]
    },
    {
      "cell_type": "markdown",
      "source": [
        "(vi) WAP to update the value of 3 to 7.1."
      ],
      "metadata": {
        "id": "3NqLVOVl3zZ-"
      }
    },
    {
      "cell_type": "code",
      "source": [
        "D = {1:5.6, 2:7.8, 3:6.6, 4:8.7, 5:7.7}\n",
        "D.update({3:7.1})\n",
        "print(\"D =\",D)"
      ],
      "metadata": {
        "colab": {
          "base_uri": "https://localhost:8080/"
        },
        "id": "wgQiA9Ut35k0",
        "outputId": "c04a27a7-f9cd-4fe0-c1dd-d35e8dde4ddd"
      },
      "execution_count": null,
      "outputs": [
        {
          "output_type": "stream",
          "name": "stdout",
          "text": [
            "D = {1: 5.6, 2: 7.8, 3: 7.1, 4: 8.7, 5: 7.7}\n"
          ]
        }
      ]
    },
    {
      "cell_type": "markdown",
      "source": [
        "(vii) WAP to clear the dictionary."
      ],
      "metadata": {
        "id": "TnPZIT214KAt"
      }
    },
    {
      "cell_type": "code",
      "source": [
        "D = {1:5.6, 2:7.8, 3:6.6, 4:8.7, 5:7.7}\n",
        "D.clear()\n",
        "print(\"Dictionary is cleared\")"
      ],
      "metadata": {
        "colab": {
          "base_uri": "https://localhost:8080/"
        },
        "id": "59W9VeLm4MEI",
        "outputId": "3a8a2bae-ea2d-43fc-bf34-e248b7eba019"
      },
      "execution_count": null,
      "outputs": [
        {
          "output_type": "stream",
          "name": "stdout",
          "text": [
            "Dictionary is cleared\n"
          ]
        }
      ]
    },
    {
      "cell_type": "markdown",
      "source": [
        "# **Q3. S1 is a set defined as S1= {10, 20, 30, 40, 50, 60}.**\n",
        "\n",
        "# **S2 is a set defined as S2= {40, 50, 60, 70, 8}**"
      ],
      "metadata": {
        "id": "gpi2QkJA4pDB"
      }
    },
    {
      "cell_type": "markdown",
      "source": [
        "(i) WAP to add 55 and 66 in Set S1."
      ],
      "metadata": {
        "id": "eU5NHxhh42em"
      }
    },
    {
      "cell_type": "code",
      "source": [
        "S1 = {10, 20, 30, 40, 50, 60}\n",
        "S1.update([55,66])\n",
        "print(S1)"
      ],
      "metadata": {
        "colab": {
          "base_uri": "https://localhost:8080/"
        },
        "id": "uauhr7eZ45zq",
        "outputId": "ea8c1c0d-93b3-4a7a-ac19-ad8a00003034"
      },
      "execution_count": null,
      "outputs": [
        {
          "output_type": "stream",
          "name": "stdout",
          "text": [
            "{50, 66, 20, 55, 40, 10, 60, 30}\n"
          ]
        }
      ]
    },
    {
      "cell_type": "markdown",
      "source": [
        "(ii) WAP to remove 10 and 30 from Set S1."
      ],
      "metadata": {
        "id": "5amPLLxw7edD"
      }
    },
    {
      "cell_type": "code",
      "source": [
        "S1 = {10, 20, 30, 40, 50, 60}\n",
        "S1.remove(10)\n",
        "S1.remove(30)\n",
        "print(S1)"
      ],
      "metadata": {
        "colab": {
          "base_uri": "https://localhost:8080/"
        },
        "id": "kL1q0WMH7g4z",
        "outputId": "54996722-f3f9-4334-a3a9-168b0bf9f47f"
      },
      "execution_count": null,
      "outputs": [
        {
          "output_type": "stream",
          "name": "stdout",
          "text": [
            "{50, 20, 40, 60}\n"
          ]
        }
      ]
    },
    {
      "cell_type": "markdown",
      "source": [
        "(iii) WAP to check whether 40 is present in S1."
      ],
      "metadata": {
        "id": "ZzOP7rZQ796g"
      }
    },
    {
      "cell_type": "code",
      "source": [
        "S1 = {10, 20, 30, 40, 50, 60}\n",
        "if 40 in S1:\n",
        "  print(\"40 is present in S1\")\n",
        "else:\n",
        "  print(\"40 is not present in S1\")"
      ],
      "metadata": {
        "colab": {
          "base_uri": "https://localhost:8080/"
        },
        "id": "MI9TBhdk8AwT",
        "outputId": "a1786943-7f87-45ef-d74c-d8ac639266e1"
      },
      "execution_count": null,
      "outputs": [
        {
          "output_type": "stream",
          "name": "stdout",
          "text": [
            "40 is present in S1\n"
          ]
        }
      ]
    },
    {
      "cell_type": "markdown",
      "source": [
        "(iv) WAP to find the union between S1 and S2."
      ],
      "metadata": {
        "id": "REPiMoDI8UQp"
      }
    },
    {
      "cell_type": "code",
      "source": [
        "S1= {10, 20, 30, 40, 50, 60}\n",
        "S2= {40, 50, 60, 70, 8}\n",
        "S = S1.union(S2)\n",
        "print(\"S1 u S2\",S)"
      ],
      "metadata": {
        "colab": {
          "base_uri": "https://localhost:8080/"
        },
        "id": "DRO6XhdU8Wzm",
        "outputId": "890ddd19-5e6b-4405-f6df-3841fd36c6e6"
      },
      "execution_count": null,
      "outputs": [
        {
          "output_type": "stream",
          "name": "stdout",
          "text": [
            "S1 u S2 {70, 40, 8, 10, 50, 20, 60, 30}\n"
          ]
        }
      ]
    },
    {
      "cell_type": "markdown",
      "source": [
        "(v) WAP to find the intersection between S1 and S2."
      ],
      "metadata": {
        "id": "Zr9XHx_P8x_U"
      }
    },
    {
      "cell_type": "code",
      "source": [
        "S1= {10, 20, 30, 40, 50, 60}\n",
        "S2= {40, 50, 60, 70, 8}\n",
        "S = S1.intersection(S2)\n",
        "print(\"S1 n S2\",S)"
      ],
      "metadata": {
        "colab": {
          "base_uri": "https://localhost:8080/"
        },
        "id": "s08dGei88zoS",
        "outputId": "f3be29a2-2c4f-432f-dd9c-5b5a7faaa4d2"
      },
      "execution_count": null,
      "outputs": [
        {
          "output_type": "stream",
          "name": "stdout",
          "text": [
            "S1 n S2 {40, 50, 60}\n"
          ]
        }
      ]
    },
    {
      "cell_type": "markdown",
      "source": [
        "(vi) WAP to find the S1 - S2."
      ],
      "metadata": {
        "id": "QNl6LTiX87N8"
      }
    },
    {
      "cell_type": "code",
      "source": [
        "S1= {10, 20, 30, 40, 50, 60}\n",
        "S2= {40, 50, 60, 70, 8}\n",
        "S = S1.difference(S2)\n",
        "print(\"S1 - S2 =\",S)"
      ],
      "metadata": {
        "colab": {
          "base_uri": "https://localhost:8080/"
        },
        "id": "wq1j9JYW8_UB",
        "outputId": "1feb124d-c3a5-4a27-e188-744ba471c6d0"
      },
      "execution_count": null,
      "outputs": [
        {
          "output_type": "stream",
          "name": "stdout",
          "text": [
            "S1 - S2 = {10, 20, 30}\n"
          ]
        }
      ]
    },
    {
      "cell_type": "markdown",
      "source": [
        "# **Q4. Write the following program.**"
      ],
      "metadata": {
        "id": "n_KhYXIT9Q6V"
      }
    },
    {
      "cell_type": "markdown",
      "source": [
        "(i) WAP to print 100 random strings whose length between 6 and 8."
      ],
      "metadata": {
        "id": "VCd6du5i9Zmo"
      }
    },
    {
      "cell_type": "code",
      "source": [
        "import string as s\n",
        "import random as r\n",
        "L = s.ascii_letters + s.digits\n",
        "for _ in range(100):\n",
        "  length = r.randint(6,8)\n",
        "  S = \"\"\n",
        "  for _ in range(length):\n",
        "    S += r.choice(L)\n",
        "  print(S)"
      ],
      "metadata": {
        "id": "cOdt2rFO9ea0",
        "colab": {
          "base_uri": "https://localhost:8080/"
        },
        "outputId": "3d2b31cc-742b-4557-c484-fc4e9accf9f8"
      },
      "execution_count": null,
      "outputs": [
        {
          "output_type": "stream",
          "name": "stdout",
          "text": [
            "NWK57AK\n",
            "u7EpoA\n",
            "jtQOlf3V\n",
            "23ulx3aD\n",
            "Cdfpx2\n",
            "ICwLNh\n",
            "Tjspot\n",
            "CHFbDt\n",
            "1sKZUU\n",
            "zJKj6qd\n",
            "v70Wcou\n",
            "HvbPUir\n",
            "VFF9QO3y\n",
            "K8MLxHJH\n",
            "hSArceZl\n",
            "p9oxqg\n",
            "C629i1G\n",
            "pfiJOY\n",
            "AuL6hlap\n",
            "BrN36v\n",
            "lEl50U\n",
            "iLn6LIb\n",
            "5P10N32w\n",
            "LDkEEd\n",
            "27LKk4\n",
            "Ql6W2Zo\n",
            "08ERRO\n",
            "iILsPV\n",
            "PetBBrA\n",
            "UqvqevQo\n",
            "eze3Tl\n",
            "iyVzhl\n",
            "pk2cvc\n",
            "cByzb5e7\n",
            "5WboZrtq\n",
            "WnQY65Jv\n",
            "ICEqFv\n",
            "OqWAIo\n",
            "legjM72\n",
            "C7DPqSTB\n",
            "c1LrKkFk\n",
            "68vePav\n",
            "RMnvcQP\n",
            "wnh0Lw\n",
            "cc9Q5qDg\n",
            "2vg8z5C\n",
            "q5cwQvXY\n",
            "uQzpdfZj\n",
            "xVILrpuy\n",
            "EHQBhjO5\n",
            "IBbM7D\n",
            "QLw2nBI\n",
            "D39X0A\n",
            "lySNFhDe\n",
            "42OZOW\n",
            "fRqcaKva\n",
            "ZS1UA9\n",
            "eFr728uN\n",
            "U367sVf\n",
            "VK9mCFMe\n",
            "mTFC9oMr\n",
            "FcWCM7LO\n",
            "EfPuIFmq\n",
            "yfHkakm\n",
            "TCV23EBX\n",
            "8PGePBS\n",
            "v1NTEer\n",
            "UhW6MDN\n",
            "J4hIUUCE\n",
            "uxvqST8\n",
            "4wBVKiL\n",
            "HC2ZoPh\n",
            "hDm1zZ\n",
            "rEbvfx\n",
            "MpdUW9a\n",
            "kvBOlpXl\n",
            "kuE9XItw\n",
            "cG4tfwF\n",
            "wVc32X\n",
            "fgihfmP5\n",
            "Y4E7577\n",
            "o5bz8vAx\n",
            "12aEBA2\n",
            "3F54cFz\n",
            "mPhNHj\n",
            "0fKRVqt\n",
            "UjIVCkqe\n",
            "MWka6Sp\n",
            "xTQ6AaV\n",
            "mbn5xg0X\n",
            "gmxOYh\n",
            "zhXONO\n",
            "FGhdjVH\n",
            "sCu4Rc\n",
            "OzoBzRtm\n",
            "DtSIX2\n",
            "pT3beTDU\n",
            "8Ft3CjJm\n",
            "Bcznk49P\n",
            "shmJPP9u\n"
          ]
        }
      ]
    },
    {
      "cell_type": "markdown",
      "source": [
        "(ii) WAP to print all prime numbers between 600 and 800."
      ],
      "metadata": {
        "id": "JZiesVEQFSdK"
      }
    },
    {
      "cell_type": "code",
      "source": [
        "def is_prime(n):\n",
        " if n < 2:\n",
        "  return False\n",
        " for i in range(2,int(n**0.5)+1):\n",
        "  if n%i == 0:\n",
        "    return False\n",
        " return True\n",
        "prime = []\n",
        "for p in range(600,801):\n",
        "  if is_prime(p):\n",
        "    prime.append(p)\n",
        "  else:\n",
        "    pass\n",
        "print(\"All prime numbers between 600 and 800\", prime)"
      ],
      "metadata": {
        "colab": {
          "base_uri": "https://localhost:8080/"
        },
        "id": "uuA_Oa5yFjuX",
        "outputId": "ecfc36ce-45b4-4c2f-86c9-c10b177fad44"
      },
      "execution_count": null,
      "outputs": [
        {
          "output_type": "stream",
          "name": "stdout",
          "text": [
            "All prime numbers between 600 and 800 [601, 607, 613, 617, 619, 631, 641, 643, 647, 653, 659, 661, 673, 677, 683, 691, 701, 709, 719, 727, 733, 739, 743, 751, 757, 761, 769, 773, 787, 797]\n"
          ]
        }
      ]
    },
    {
      "cell_type": "markdown",
      "source": [
        "(iii) WAP to print all numbers between 100 and 1000 that are divisible by 7 and 9."
      ],
      "metadata": {
        "id": "lhCHb8ZlJNcl"
      }
    },
    {
      "cell_type": "code",
      "source": [
        "L = range(100,1001)\n",
        "seven = set()\n",
        "for n in L:\n",
        "  if n%7 == 0:\n",
        "    seven.add(n)\n",
        "  else:\n",
        "    pass\n",
        "nine = set()\n",
        "for m in L:\n",
        "  if m%9 == 0:\n",
        "    nine.add(m)\n",
        "  else:\n",
        "    pass\n",
        "A = seven.union(nine)\n",
        "Answer = list(A)\n",
        "Answer.sort()\n",
        "print(\"All numbers between 100 and 1000 that are divisible by 7 and 9 =\",Answer)"
      ],
      "metadata": {
        "colab": {
          "base_uri": "https://localhost:8080/"
        },
        "id": "P44XVm7BJWRk",
        "outputId": "eae2a11f-bfe0-4db0-ba9e-8371cb0c5ecf"
      },
      "execution_count": null,
      "outputs": [
        {
          "output_type": "stream",
          "name": "stdout",
          "text": [
            "All numbers between 100 and 1000 that are divisible by 7 and 9 = [105, 108, 112, 117, 119, 126, 133, 135, 140, 144, 147, 153, 154, 161, 162, 168, 171, 175, 180, 182, 189, 196, 198, 203, 207, 210, 216, 217, 224, 225, 231, 234, 238, 243, 245, 252, 259, 261, 266, 270, 273, 279, 280, 287, 288, 294, 297, 301, 306, 308, 315, 322, 324, 329, 333, 336, 342, 343, 350, 351, 357, 360, 364, 369, 371, 378, 385, 387, 392, 396, 399, 405, 406, 413, 414, 420, 423, 427, 432, 434, 441, 448, 450, 455, 459, 462, 468, 469, 476, 477, 483, 486, 490, 495, 497, 504, 511, 513, 518, 522, 525, 531, 532, 539, 540, 546, 549, 553, 558, 560, 567, 574, 576, 581, 585, 588, 594, 595, 602, 603, 609, 612, 616, 621, 623, 630, 637, 639, 644, 648, 651, 657, 658, 665, 666, 672, 675, 679, 684, 686, 693, 700, 702, 707, 711, 714, 720, 721, 728, 729, 735, 738, 742, 747, 749, 756, 763, 765, 770, 774, 777, 783, 784, 791, 792, 798, 801, 805, 810, 812, 819, 826, 828, 833, 837, 840, 846, 847, 854, 855, 861, 864, 868, 873, 875, 882, 889, 891, 896, 900, 903, 909, 910, 917, 918, 924, 927, 931, 936, 938, 945, 952, 954, 959, 963, 966, 972, 973, 980, 981, 987, 990, 994, 999]\n"
          ]
        }
      ]
    },
    {
      "cell_type": "markdown",
      "source": [
        "# **Q5. WAP to create two lists of 10 random numbers between 10 and 30; Find**"
      ],
      "metadata": {
        "id": "qh8mRpmTLk9R"
      }
    },
    {
      "cell_type": "code",
      "source": [
        "import random as r\n",
        "L1 = r.sample(range(10, 31), 10)\n",
        "L2 = r.sample(range(10, 31), 10)\n",
        "print(\"L1 =\", L1)\n",
        "print(\"L2 =\", L2)"
      ],
      "metadata": {
        "colab": {
          "base_uri": "https://localhost:8080/"
        },
        "id": "ewT97fsTL131",
        "outputId": "e66eef9b-4cdb-4035-edf6-8eded1692490"
      },
      "execution_count": null,
      "outputs": [
        {
          "output_type": "stream",
          "name": "stdout",
          "text": [
            "L1 = [24, 10, 27, 30, 17, 19, 16, 14, 22, 12]\n",
            "L2 = [17, 26, 27, 21, 28, 30, 14, 19, 22, 10]\n"
          ]
        }
      ]
    },
    {
      "cell_type": "markdown",
      "source": [
        "(i) Common numbers in the two lists"
      ],
      "metadata": {
        "id": "ZsA6oSWXLran"
      }
    },
    {
      "cell_type": "code",
      "source": [
        "S1 = set(L1)\n",
        "S2 = set(L2)\n",
        "S_inter = S1.intersection(S2)\n",
        "L_inter = list(S_inter)\n",
        "print(\"Common numbers in both lists =\",L_inter)"
      ],
      "metadata": {
        "colab": {
          "base_uri": "https://localhost:8080/"
        },
        "id": "eNlF6tnXLusj",
        "outputId": "43c8f31c-caaa-4453-ff2a-fb7b51c3a6f5"
      },
      "execution_count": null,
      "outputs": [
        {
          "output_type": "stream",
          "name": "stdout",
          "text": [
            "Common numbers in both lists = [10, 14, 17, 19, 22, 27, 30]\n"
          ]
        }
      ]
    },
    {
      "cell_type": "markdown",
      "source": [
        "(ii) Unique numbers in both the list"
      ],
      "metadata": {
        "id": "hdUwTkc7PBA6"
      }
    },
    {
      "cell_type": "code",
      "source": [
        "S1 = set(L1)\n",
        "S2 = set(L2)\n",
        "S1_u = S1.difference(S2)\n",
        "S2_u = S2.difference(S1)\n",
        "L1_u = list(S1_u)\n",
        "L2_u = list(S2_u)\n",
        "print(\"Unique numbers in L1 =\",L1_u)\n",
        "print(\"Unique numbers in L2 =\",L2_u)"
      ],
      "metadata": {
        "colab": {
          "base_uri": "https://localhost:8080/"
        },
        "id": "A1fbDHVGPE1v",
        "outputId": "15079c1c-fb34-47d8-9ab0-12a2d6f721ff"
      },
      "execution_count": null,
      "outputs": [
        {
          "output_type": "stream",
          "name": "stdout",
          "text": [
            "Unique numbers in L1 = [16, 24, 12]\n",
            "Unique numbers in L2 = [26, 28, 21]\n"
          ]
        }
      ]
    },
    {
      "cell_type": "markdown",
      "source": [
        "(iii) Minimum in both the list"
      ],
      "metadata": {
        "id": "n1MRmc6SQG-4"
      }
    },
    {
      "cell_type": "code",
      "source": [
        "S_union = S1.union(S2)\n",
        "L_union = list(S_union)\n",
        "L_union.sort()\n",
        "print(\"Minimum in both the list =\",L_union[0])"
      ],
      "metadata": {
        "colab": {
          "base_uri": "https://localhost:8080/"
        },
        "id": "LKSnwuJbQRfg",
        "outputId": "5fe1dcdf-e1a5-4a47-d96e-bb053824fd5c"
      },
      "execution_count": null,
      "outputs": [
        {
          "output_type": "stream",
          "name": "stdout",
          "text": [
            "Minimum in both the list = 10\n"
          ]
        }
      ]
    },
    {
      "cell_type": "markdown",
      "source": [
        "(iv) Maximum in both the list"
      ],
      "metadata": {
        "id": "zedtP3l6RjdN"
      }
    },
    {
      "cell_type": "code",
      "source": [
        "S_union = S1.union(S2)\n",
        "L_union = list(S_union)\n",
        "L_union.sort(reverse = True)\n",
        "print(\"Maximum in both the list =\",L_union[0])"
      ],
      "metadata": {
        "colab": {
          "base_uri": "https://localhost:8080/"
        },
        "id": "6c2CA7ZtRlWZ",
        "outputId": "7a5f0fb9-4ac2-486b-8ed8-801a7deb62a9"
      },
      "execution_count": null,
      "outputs": [
        {
          "output_type": "stream",
          "name": "stdout",
          "text": [
            "Maximum in both the list = 30\n"
          ]
        }
      ]
    },
    {
      "cell_type": "markdown",
      "source": [
        "(v) Sum of both the lists"
      ],
      "metadata": {
        "id": "VAOFubeyR6fD"
      }
    },
    {
      "cell_type": "code",
      "source": [
        "print(\"Sum of all numbers in L1 =\",sum(L1))\n",
        "print(\"Sum of all numbers in L2 =\",sum(L2))\n",
        "print(\"Sum of all numbers of both lists =\",sum(L1) + sum(L2))"
      ],
      "metadata": {
        "colab": {
          "base_uri": "https://localhost:8080/"
        },
        "id": "VtL6wv6kR8mT",
        "outputId": "d1dc7a80-6533-4bdb-ae3d-e4b9ceb330c5"
      },
      "execution_count": null,
      "outputs": [
        {
          "output_type": "stream",
          "name": "stdout",
          "text": [
            "Sum of all numbers in L1 = 191\n",
            "Sum of all numbers in L2 = 214\n",
            "Sum of all numbers of both lists = 405\n"
          ]
        }
      ]
    },
    {
      "cell_type": "markdown",
      "source": [
        "# **Q6. WAP to create a list of 100 random numbers between 100 and 900. Count and print the:**"
      ],
      "metadata": {
        "id": "-8hTIKbEScVA"
      }
    },
    {
      "cell_type": "code",
      "source": [
        "import random as r\n",
        "L = r.sample(range(100,900),100)\n",
        "L.sort()\n",
        "print(L)"
      ],
      "metadata": {
        "colab": {
          "base_uri": "https://localhost:8080/"
        },
        "id": "cmbqVD_mSjV-",
        "outputId": "b1a7c517-9b45-4892-b582-5b850ca54eda"
      },
      "execution_count": null,
      "outputs": [
        {
          "output_type": "stream",
          "name": "stdout",
          "text": [
            "[102, 107, 112, 119, 133, 141, 158, 173, 177, 188, 210, 238, 241, 256, 264, 268, 274, 278, 288, 292, 296, 300, 309, 313, 314, 317, 330, 331, 332, 335, 340, 344, 348, 369, 371, 389, 432, 440, 445, 449, 453, 456, 461, 466, 491, 492, 493, 494, 508, 510, 517, 534, 537, 561, 565, 579, 585, 587, 593, 595, 597, 602, 606, 613, 627, 632, 637, 638, 640, 642, 655, 657, 667, 671, 717, 726, 728, 740, 749, 753, 759, 766, 770, 772, 783, 791, 795, 808, 814, 821, 835, 836, 847, 851, 856, 861, 878, 880, 888, 894]\n"
          ]
        }
      ]
    },
    {
      "cell_type": "markdown",
      "source": [
        "(i) All odd numbers"
      ],
      "metadata": {
        "id": "R7TH_41NUTNC"
      }
    },
    {
      "cell_type": "code",
      "source": [
        "odd =[]\n",
        "for m in L:\n",
        "  if m%2 == 0:\n",
        "    pass\n",
        "  else:\n",
        "    odd.append(m)\n",
        "print(odd)"
      ],
      "metadata": {
        "colab": {
          "base_uri": "https://localhost:8080/"
        },
        "id": "BB_dUGvAUXNr",
        "outputId": "dc5bf2bf-4132-40d9-f5e0-871658a6dbd5"
      },
      "execution_count": null,
      "outputs": [
        {
          "output_type": "stream",
          "name": "stdout",
          "text": [
            "[107, 119, 133, 141, 173, 177, 241, 309, 313, 317, 331, 335, 369, 371, 389, 445, 449, 453, 461, 491, 493, 517, 537, 561, 565, 579, 585, 587, 593, 595, 597, 613, 627, 637, 655, 657, 667, 671, 717, 749, 753, 759, 783, 791, 795, 821, 835, 847, 851, 861]\n"
          ]
        }
      ]
    },
    {
      "cell_type": "markdown",
      "source": [
        "(ii) All even numbers"
      ],
      "metadata": {
        "id": "B5mMJS_-U2YE"
      }
    },
    {
      "cell_type": "code",
      "source": [
        "even =[]\n",
        "for n in L:\n",
        "  if n%2 == 0:\n",
        "    even.append(n)\n",
        "  else:\n",
        "    pass\n",
        "print(even)"
      ],
      "metadata": {
        "colab": {
          "base_uri": "https://localhost:8080/"
        },
        "id": "vW7mwcpAU5Jq",
        "outputId": "5292e38c-5bd9-4148-d5f7-113394a78ff4"
      },
      "execution_count": null,
      "outputs": [
        {
          "output_type": "stream",
          "name": "stdout",
          "text": [
            "[102, 112, 158, 188, 210, 238, 256, 264, 268, 274, 278, 288, 292, 296, 300, 314, 330, 332, 340, 344, 348, 432, 440, 456, 466, 492, 494, 508, 510, 534, 602, 606, 632, 638, 640, 642, 726, 728, 740, 766, 770, 772, 808, 814, 836, 856, 878, 880, 888, 894]\n"
          ]
        }
      ]
    },
    {
      "cell_type": "markdown",
      "source": [
        "(iii) All prime numbers"
      ],
      "metadata": {
        "id": "HVtzWT35VEMf"
      }
    },
    {
      "cell_type": "code",
      "source": [
        "def is_prime(n):\n",
        "  if n < 2:\n",
        "    return False\n",
        "  for i in range(2,int(n**0.5)+1):\n",
        "    if n%i == 0:\n",
        "      return False\n",
        "  return True\n",
        "prime = []\n",
        "for p in L:\n",
        "  if is_prime(p):\n",
        "    prime.append(p)\n",
        "  else:\n",
        "    pass\n",
        "print(prime)"
      ],
      "metadata": {
        "colab": {
          "base_uri": "https://localhost:8080/"
        },
        "id": "8HO3w_ArVGoM",
        "outputId": "d264007f-b018-478e-8555-6e0ce6b86b82"
      },
      "execution_count": null,
      "outputs": [
        {
          "output_type": "stream",
          "name": "stdout",
          "text": [
            "[107, 173, 241, 313, 317, 331, 389, 449, 461, 491, 587, 593, 613, 821]\n"
          ]
        }
      ]
    },
    {
      "cell_type": "markdown",
      "source": [
        "# **Q7. D is a dictionary defined as D={1:\"One\",2:\"Two\",3:\"Three\",4:\"Four\", 5:\"Five\"}.**\n",
        "# **WAP to read all the keys and values from dictionary and write to the file in the given below format.**\n",
        "# **Key1, Value1**\n",
        "# **Key2, Value2**\n",
        "# **Key3, Value3**"
      ],
      "metadata": {
        "id": "7VHQmpwZTTqC"
      }
    },
    {
      "cell_type": "code",
      "source": [
        "D={1:\"One\",2:\"Two\",3:\"Three\",4:\"Four\", 5:\"Five\"}\n",
        "L1 = list(D.keys())\n",
        "L2 = list(D.values())\n",
        "print(L1[0],\",\",L2[0])\n",
        "print(L1[1],\",\",L2[1])\n",
        "print(L1[2],\",\",L2[2])\n",
        "print(L1[3],\",\",L2[3])\n",
        "print(L1[4],\",\",L2[4])"
      ],
      "metadata": {
        "colab": {
          "base_uri": "https://localhost:8080/"
        },
        "id": "mwy271-2Twsv",
        "outputId": "89afeda3-7eb8-4589-e774-25c7012e5512"
      },
      "execution_count": null,
      "outputs": [
        {
          "output_type": "stream",
          "name": "stdout",
          "text": [
            "1 , One\n",
            "2 , Two\n",
            "3 , Three\n",
            "4 , Four\n",
            "5 , Five\n"
          ]
        }
      ]
    },
    {
      "cell_type": "markdown",
      "source": [
        "# **Q8. L is a list defined as L=[\"One\",\"Two\",\"Three\",\"Four\",\"Five\"].**\n",
        "# **WAP to count the length of reach element from a list and write to the file in the given below format:**\n",
        "# **One, 3**\n",
        "# **Two, 3**\n",
        "# **Four, 4**\n"
      ],
      "metadata": {
        "id": "K_KRaBKsV5sh"
      }
    },
    {
      "cell_type": "code",
      "source": [
        "L=[\"One\",\"Two\",\"Three\",\"Four\",\"Five\"]\n",
        "print(L[0],\",\",len(L[0]))\n",
        "print(L[1],\",\",len(L[1]))\n",
        "print(L[2],\",\",len(L[2]))\n",
        "print(L[3],\",\",len(L[3]))\n",
        "print(L[4],\",\",len(L[4]))"
      ],
      "metadata": {
        "colab": {
          "base_uri": "https://localhost:8080/"
        },
        "id": "t2Wcq7uhWJeN",
        "outputId": "e39bfee3-989d-4a4a-f275-6042281ce103"
      },
      "execution_count": null,
      "outputs": [
        {
          "output_type": "stream",
          "name": "stdout",
          "text": [
            "One , 3\n",
            "Two , 3\n",
            "Three , 5\n",
            "Four , 4\n",
            "Five , 4\n"
          ]
        }
      ]
    },
    {
      "cell_type": "markdown",
      "source": [
        "# **Q9. Write to the file 100 random strings whose length between 10 and 15.**"
      ],
      "metadata": {
        "id": "gSb5SRS-XWHv"
      }
    },
    {
      "cell_type": "code",
      "source": [
        "import string as s\n",
        "import random as r\n",
        "L = s.ascii_letters + s.digits\n",
        "for _ in range(100):\n",
        "  length = r.randint(10,15)\n",
        "  S = \"\"\n",
        "  for _ in range(length):\n",
        "    S += r.choice(L)\n",
        "  print(S)"
      ],
      "metadata": {
        "colab": {
          "base_uri": "https://localhost:8080/"
        },
        "id": "k3l7y2SlXcll",
        "outputId": "1c88b61d-2677-4a0c-9ead-1e6bca348389"
      },
      "execution_count": null,
      "outputs": [
        {
          "output_type": "stream",
          "name": "stdout",
          "text": [
            "FIj8lOsA60m6\n",
            "oKENd09Li1\n",
            "TaiQ1gTlYl\n",
            "WkxKj4nsIsQaJ\n",
            "EikDcmRVGq0uQ3\n",
            "iVaVpeCh5zusAB\n",
            "U77klm21vxVbi\n",
            "EcwTjJzCnjIt2B\n",
            "eh4nDbib6PmsaON\n",
            "dS9ZaRIxhN9ORu7\n",
            "wIVIzGoQ1ViYSzQ\n",
            "n5wsdTarKwsi\n",
            "5ZMsQwY2aJanaA\n",
            "23PWQ6omqYLCav\n",
            "cjowt2YCMY\n",
            "FTuMpzrAqsJFJv1\n",
            "XWZLYsBFHs\n",
            "eZFzVunQkZaw\n",
            "w1sGajm89OKFi\n",
            "72PM0m5vMshFpfX\n",
            "vkrf2mp6QqgDfK\n",
            "VD3ac7pDDVItXrT\n",
            "ntp8KzAS4MTO21\n",
            "GEmGoLszNgl\n",
            "BAjKReMxGJfW\n",
            "RlvzWlySNr6s\n",
            "uZp70UjPV5BUK\n",
            "vTdDDP7t7et\n",
            "Bbe6wNcUDz5PF\n",
            "amN0usoFWOcz\n",
            "ChhKZbmmMSIMkm\n",
            "fM1DjoFNuIgUbVj\n",
            "5mZsmXNbmtZRlaM\n",
            "zjazxQR7u4i\n",
            "Gy71n75XcwG\n",
            "BswNpOwiifGt7\n",
            "QBASUpwQ0n\n",
            "8C8otxo442ure\n",
            "7MW657Opgg3i\n",
            "vIw040kEWchv\n",
            "5iQfGsxiFP\n",
            "dTOmR0hOUXA4l\n",
            "DCTs6p0ES0kGPxz\n",
            "RjQ4PQmw9Nix\n",
            "qVfiztuwBJ\n",
            "9Fn7vCsc0nN\n",
            "xMOa4RYSQ7I\n",
            "g2RAtY5Js4HPc\n",
            "U1URY6LbAPJUZcI\n",
            "1BJY1IG0Nq6k\n",
            "Yru0m4lomAo2t5\n",
            "LEdjr6ZZVZcUKAR\n",
            "xPhICVh8wdYZ3v\n",
            "Lh6VVWuqpua5hn\n",
            "F4Gws5sm1LPGm\n",
            "FQsvYIRaRVIBwmy\n",
            "JCzwNeYDDGPrT\n",
            "diahRiISbN7Pnn\n",
            "GlznagnhW8rXo\n",
            "MrrpsKYl4e\n",
            "EgitniALbDdZrR\n",
            "EWsi49pk6SmU\n",
            "aW9AXx9K7a\n",
            "5oL2kVOfkjmh\n",
            "y0rJqWArJK\n",
            "Easi3iJ8XRzZU\n",
            "ELBMczIqHn10r9J\n",
            "MfrVk9SaA6\n",
            "PvsjQYJJcJ\n",
            "4SaN783VkiX\n",
            "3pDc1xsAvnnr\n",
            "9c1nUoZttfzrw\n",
            "jkUMsqvt6FO7txL\n",
            "Qu9OcmXCjMQk\n",
            "pVEsChidu43IT\n",
            "GI8p7KBsw8k\n",
            "k8HIr99713HrNux\n",
            "xGlOgTi8rwIQH0r\n",
            "tf5OSkCyNS9o\n",
            "u36RR3gZLD5\n",
            "wMSpKTiUPm\n",
            "Lbf15YDzPwb5YR\n",
            "TfcMhzmT9nMCRP\n",
            "MotTOS99tFBO\n",
            "P38Tbnmy9Vzwus\n",
            "8qiJ8PoSQJq2y5\n",
            "liz3NOwKmf40d\n",
            "8VkXpFOIGwxlFf\n",
            "oxBVormaORg\n",
            "qBiQqeXFFgq\n",
            "McHjoJ4ZmYli1gT\n",
            "fk3TSYvihHQN\n",
            "zqWt8u6nCF\n",
            "6RjJNgSLw6F\n",
            "cCMZ7nTNuIVH06h\n",
            "VO32NsbrDuWfT\n",
            "e8K4yNqV10mj2n3\n",
            "3w84KWEEBn\n",
            "iOODx8bnTyyOyot\n",
            "KHBa6Z570I\n"
          ]
        }
      ]
    },
    {
      "cell_type": "markdown",
      "source": [
        "# **Q10. Write to the file all prime numbers between 600 and 800.**"
      ],
      "metadata": {
        "id": "QIZ14DGTYhyc"
      }
    },
    {
      "cell_type": "code",
      "source": [
        "def is_prime(n):\n",
        "  if n < 2 == 0:\n",
        "    return False\n",
        "  for i in range(2,int(n**0.5)+1):\n",
        "    if n%i == 0:\n",
        "      return False\n",
        "  return True\n",
        "prime = []\n",
        "for p in range(600,801):\n",
        "  if is_prime(p):\n",
        "    prime.append(p)\n",
        "  else:\n",
        "    pass\n",
        "print(\"All prime numbers between 600 and 800\", prime)"
      ],
      "metadata": {
        "colab": {
          "base_uri": "https://localhost:8080/"
        },
        "id": "em9yDhkYYlGD",
        "outputId": "1343f4bb-d8f9-4e42-8e85-1aa530f64b7b"
      },
      "execution_count": null,
      "outputs": [
        {
          "output_type": "stream",
          "name": "stdout",
          "text": [
            "All prime numbers between 600 and 800 [601, 607, 613, 617, 619, 631, 641, 643, 647, 653, 659, 661, 673, 677, 683, 691, 701, 709, 719, 727, 733, 739, 743, 751, 757, 761, 769, 773, 787, 797]\n"
          ]
        }
      ]
    },
    {
      "cell_type": "markdown",
      "source": [
        "# **Q11. WAP to calculate the time taken by a program.**"
      ],
      "metadata": {
        "id": "H0FpMjC3Zlex"
      }
    },
    {
      "cell_type": "code",
      "source": [
        "import time as t\n",
        "t1 = t.time()\n",
        "t2 = t.time()\n",
        "print(\"Total Time Taken =\", t2-t1)"
      ],
      "metadata": {
        "colab": {
          "base_uri": "https://localhost:8080/"
        },
        "id": "3UmDXMoMZnr9",
        "outputId": "21e419a1-e855-40a0-de20-27f799dc58d9"
      },
      "execution_count": null,
      "outputs": [
        {
          "output_type": "stream",
          "name": "stdout",
          "text": [
            "Total Time Taken = 2.6941299438476562e-05\n"
          ]
        }
      ]
    },
    {
      "cell_type": "markdown",
      "source": [
        "# **Q12. WAP to sort following number of elements in a list, calculate time taken and plot the graph.**\n",
        "![image.png](data:image/png;base64,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)\n"
      ],
      "metadata": {
        "id": "tzYHtLNCabdr"
      }
    },
    {
      "cell_type": "code",
      "source": [
        "import time as t\n",
        "import random as r\n",
        "import matplotlib.pyplot as plt\n",
        "n = [5000, 10000, 15000, 20000, 25000]\n",
        "L = r.sample(range(1,100000),5000)\n",
        "t1 = t.time()\n",
        "L.sort()\n",
        "t2 = t.time()\n",
        "print(\"T1 =\", t2-t1)\n",
        "L = r.sample(range(1,100000),10000)\n",
        "t3 = t.time()\n",
        "L.sort()\n",
        "t4 = t.time()\n",
        "print(\"T2 =\", t4-t3)\n",
        "L = r.sample(range(1,100000),15000)\n",
        "t5 = t.time()\n",
        "L.sort()\n",
        "t6 = t.time()\n",
        "print(\"T3 =\", t6-t5)\n",
        "L = r.sample(range(1,100000),20000)\n",
        "t7 = t.time()\n",
        "L.sort()\n",
        "t8 = t.time()\n",
        "print(\"T4 =\", t8-t7)\n",
        "L = r.sample(range(1,100000),25000)\n",
        "t9 = t.time()\n",
        "L.sort()\n",
        "t10 = t.time()\n",
        "print(\"T5 =\", t10-t9)\n",
        "times = [t2-t1,t4-t3,t6-t5,t8-t7,t10-t9]\n",
        "plt.plot(n, times, marker='o')\n",
        "plt.title('Sorting Time vs Number of Elements')\n",
        "plt.xlabel('Number of Elements')\n",
        "plt.ylabel('Time Taken (seconds)')\n",
        "plt.grid(True)\n",
        "plt.show()"
      ],
      "metadata": {
        "colab": {
          "base_uri": "https://localhost:8080/",
          "height": 559
        },
        "id": "BAqOmSsCaoFD",
        "outputId": "d17f370c-a273-4a73-91a4-81838ecafde5"
      },
      "execution_count": 26,
      "outputs": [
        {
          "output_type": "stream",
          "name": "stdout",
          "text": [
            "T1 = 0.0014357566833496094\n",
            "T2 = 0.002989530563354492\n",
            "T3 = 0.00434565544128418\n",
            "T4 = 0.006744861602783203\n",
            "T5 = 0.009883403778076172\n"
          ]
        },
        {
          "output_type": "display_data",
          "data": {
            "text/plain": [
              "<Figure size 640x480 with 1 Axes>"
            ],
            "image/png": "[encoded data removed]"
          },
          "metadata": {}
        }
      ]
    },
    {
      "cell_type": "markdown",
      "source": [
        "# **Q13. WAP to create a dictionary of student marks in five subjects and you have to find the student having maximum and minimum average mark.**"
      ],
      "metadata": {
        "id": "ZmLOktDCf8Lu"
      }
    },
    {
      "cell_type": "code",
      "source": [
        "import random as r\n",
        "S_names = set(['Tommy', 'Arthur', 'John', 'Finn', 'Charlie'])\n",
        "L_marks1 = r.sample(range(80,100),5)\n",
        "S_marks1 = set(L_marks1)\n",
        "L_marks2 = r.sample(range(80,100),5)\n",
        "S_marks2 = set(L_marks2)\n",
        "L_marks3 = r.sample(range(80,100),5)\n",
        "S_marks3 = set(L_marks3)\n",
        "L_marks4 = r.sample(range(80,100),5)\n",
        "S_marks4 = set(L_marks4)\n",
        "L_marks5 = r.sample(range(80,100),5)\n",
        "S_marks5 = set(L_marks5)\n",
        "L_marks = [S_marks1,S_marks2,S_marks3,S_marks4,S_marks5]\n",
        "D = dict(zip(L_names,L_marks))\n",
        "print('Dictionary of students and their marks =',D)\n",
        "L_avg = [sum(S_marks1)/5,sum(S_marks2)/5,sum(S_marks3)/5,sum(S_marks4)/5,sum(S_marks5)/5]\n",
        "D_avg = dict(zip(L_names,L_avg))\n",
        "print('Dictionary of students and their average marks =',D_avg)\n",
        "max_student = max(D_avg, key=D_avg.get)\n",
        "max_marks = D_avg[max_student]\n",
        "min_student = min(D_avg, key=D_avg.get)\n",
        "min_marks = D_avg[min_student]\n",
        "print(\"Student with maximum average marks -\",max_student,'scored',max_marks,'marks.')\n",
        "print(\"Student with minimum average marks -\",min_student,'scored',min_marks,'marks.')"
      ],
      "metadata": {
        "colab": {
          "base_uri": "https://localhost:8080/"
        },
        "id": "JBv1gDH0IJxl",
        "outputId": "8804d480-e467-402c-a448-3a96c026de45"
      },
      "execution_count": null,
      "outputs": [
        {
          "output_type": "stream",
          "name": "stdout",
          "text": [
            "Dictionary of students and their marks = {'Finn': {99, 85, 86, 87, 93}, 'Charlie': {84, 88, 90, 91, 93}, 'John': {96, 82, 83, 86, 87}, 'Tommy': {96, 99, 81, 83, 91}, 'Arthur': {81, 85, 86, 91, 93}}\n",
            "Dictionary of students and their average marks = {'Finn': 90.0, 'Charlie': 89.2, 'John': 86.8, 'Tommy': 90.0, 'Arthur': 87.2}\n",
            "Student with maximum average marks - Finn scored 90.0 marks.\n",
            "Student with minimum average marks - John scored 86.8 marks.\n"
          ]
        }
      ]
    }
  ]
}